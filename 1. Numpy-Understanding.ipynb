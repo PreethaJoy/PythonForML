{
 "cells": [
  {
   "cell_type": "code",
   "execution_count": 2,
   "id": "648bf5a2-9a2e-436f-8fe9-0c50d30c178f",
   "metadata": {},
   "outputs": [
    {
     "name": "stdout",
     "output_type": "stream",
     "text": [
      "Defaulting to user installation because normal site-packages is not writeable\n",
      "Requirement already satisfied: numpy in c:\\users\\preet\\appdata\\local\\packages\\pythonsoftwarefoundation.python.3.12_qbz5n2kfra8p0\\localcache\\local-packages\\python312\\site-packages (1.26.4)\n"
     ]
    }
   ],
   "source": [
    "!pip install numpy"
   ]
  },
  {
   "cell_type": "code",
   "execution_count": 3,
   "id": "bda49d75-4882-4a7c-a8e1-046d4973d539",
   "metadata": {},
   "outputs": [],
   "source": [
    "import numpy as np"
   ]
  },
  {
   "cell_type": "markdown",
   "id": "c6fb0ff0-8d46-4496-904e-d97e27d7e12c",
   "metadata": {},
   "source": [
    "# 1. Create"
   ]
  },
  {
   "cell_type": "code",
   "execution_count": 5,
   "id": "a83f1d99-9515-4449-a896-507d6202ecea",
   "metadata": {},
   "outputs": [],
   "source": [
    "data = np.random.rand(2,3,4)\n",
    "zeros = np.zeros((2,2,2))\n",
    "full = np.full((2,2,2), 7)\n",
    "ones = np.ones((2,2,2))"
   ]
  },
  {
   "cell_type": "code",
   "execution_count": 12,
   "id": "3a3de372-ec13-47cd-9497-b168cca251f8",
   "metadata": {},
   "outputs": [
    {
     "data": {
      "text/plain": [
       "numpy.ndarray"
      ]
     },
     "execution_count": 12,
     "metadata": {},
     "output_type": "execute_result"
    }
   ],
   "source": [
    "type(arr)"
   ]
  },
  {
   "cell_type": "markdown",
   "id": "29e6e524-0536-44cf-bd90-3676ad0f91ec",
   "metadata": {},
   "source": [
    "# 2. Read"
   ]
  },
  {
   "cell_type": "code",
   "execution_count": 14,
   "id": "617f1e2b-90fc-4f9d-a8c0-744d6518b61d",
   "metadata": {},
   "outputs": [],
   "source": [
    "# Attributes\n",
    "shape = data.shape\n",
    "size = data.size\n",
    "types = data.dtype"
   ]
  },
  {
   "cell_type": "code",
   "execution_count": 22,
   "id": "1d564378-66cc-48d9-aa45-19bc65921798",
   "metadata": {},
   "outputs": [],
   "source": [
    "arr = data[0]\n",
    "slicer = data[0:2]\n",
    "slicer1 = data[0][1:2]\n",
    "reverse = data[-1]\n",
    "singleVal = data[0][0][1]"
   ]
  },
  {
   "cell_type": "markdown",
   "id": "b7a188c2-5f62-4583-9311-116648b3edf2",
   "metadata": {},
   "source": [
    "# 3. Update"
   ]
  },
  {
   "cell_type": "code",
   "execution_count": 26,
   "id": "bbc2a821-4722-4243-a976-904cdbdcd8bb",
   "metadata": {},
   "outputs": [],
   "source": [
    "list1 = np.random.rand(10)\n",
    "list2 = np.random.rand(10)"
   ]
  },
  {
   "cell_type": "code",
   "execution_count": 28,
   "id": "e344bba7-8a7f-40c8-a806-4369505e7aad",
   "metadata": {},
   "outputs": [],
   "source": [
    "# Basic Math\n",
    "add = np.add(list1, list2)\n",
    "sub = np.subtract(list1, list2)\n",
    "div = np.divide(list1, list2)\n",
    "mult = np.multiply(list1, list2)\n",
    "dot = np.dot(list1, list2)"
   ]
  },
  {
   "cell_type": "code",
   "execution_count": 29,
   "id": "ab6698b4-506d-4572-a895-8f39d483d61b",
   "metadata": {},
   "outputs": [],
   "source": [
    "# Stat Functions - SAPLEMM\n",
    "sqrt = np.sqrt(25)\n",
    "ab = np.abs(-1)\n",
    "power = np.power(2,7)\n",
    "log = np.log(25)\n",
    "exp = np.exp([2,3])\n",
    "mins = np.min(list1)\n",
    "maxs = np.max(list1)"
   ]
  },
  {
   "cell_type": "code",
   "execution_count": 35,
   "id": "3b2872ba-3ccd-481d-900e-42632bf56acb",
   "metadata": {},
   "outputs": [],
   "source": [
    "data[0][0][0] = 700"
   ]
  },
  {
   "cell_type": "code",
   "execution_count": 37,
   "id": "56a73181-2994-46de-9028-c246d0ac7557",
   "metadata": {},
   "outputs": [],
   "source": [
    "data.sort()"
   ]
  },
  {
   "cell_type": "code",
   "execution_count": 38,
   "id": "a7665c0d-05fb-4aa4-9786-2569e3d1c3ea",
   "metadata": {},
   "outputs": [
    {
     "data": {
      "text/plain": [
       "array([[[5.83224590e-01, 5.92214469e-01, 9.75798384e-01, 7.00000000e+02],\n",
       "        [2.90985168e-01, 8.39184394e-01, 8.43091449e-01, 8.59569656e-01],\n",
       "        [1.65446039e-01, 4.42447934e-01, 5.24926726e-01, 6.59659606e-01]],\n",
       "\n",
       "       [[4.80685826e-01, 5.38123884e-01, 6.05772483e-01, 6.17043268e-01],\n",
       "        [1.29210070e-01, 4.50848025e-01, 8.70199139e-01, 9.59262757e-01],\n",
       "        [2.98587342e-01, 5.52118455e-01, 5.97572641e-01, 6.02538334e-01]]])"
      ]
     },
     "execution_count": 38,
     "metadata": {},
     "output_type": "execute_result"
    }
   ],
   "source": [
    "data"
   ]
  },
  {
   "cell_type": "code",
   "execution_count": 39,
   "id": "1795ea48-ab2a-4a2f-80b9-1106cd539525",
   "metadata": {},
   "outputs": [
    {
     "name": "stdout",
     "output_type": "stream",
     "text": [
      "(2, 3, 4)\n"
     ]
    }
   ],
   "source": [
    "print(data.shape)"
   ]
  },
  {
   "cell_type": "code",
   "execution_count": 41,
   "id": "3e95365e-685b-4934-97fb-ec0182ce644f",
   "metadata": {},
   "outputs": [
    {
     "data": {
      "text/plain": [
       "(2, 2, 6)"
      ]
     },
     "execution_count": 41,
     "metadata": {},
     "output_type": "execute_result"
    }
   ],
   "source": [
    "data = data.reshape((2,2,-2))\n",
    "data.shape"
   ]
  },
  {
   "cell_type": "code",
   "execution_count": 46,
   "id": "79e43ceb-df2e-47b3-aad9-be920e1526a4",
   "metadata": {},
   "outputs": [
    {
     "name": "stdout",
     "output_type": "stream",
     "text": [
      "[0. 0. 0. 0. 0. 0. 0. 0.]\n",
      "[0. 0. 0. 0. 0. 0. 0. 0. 3. 4.]\n",
      "[0. 0. 1. 0. 0. 0. 0. 0. 0. 3. 4.]\n"
     ]
    }
   ],
   "source": [
    "zeros = np.zeros(8)\n",
    "print(zeros)\n",
    "zeros = np.append(zeros, [3,4])\n",
    "print(zeros)\n",
    "zeros = np.insert(zeros, 2, 1)\n",
    "print(zeros)"
   ]
  },
  {
   "cell_type": "markdown",
   "id": "b0a2bc08-06f6-4a2d-98e8-922e0a5b5727",
   "metadata": {},
   "source": [
    "# 4. Update"
   ]
  },
  {
   "cell_type": "code",
   "execution_count": 47,
   "id": "dedda824-77f2-4ab8-bf06-92bb0051ec7a",
   "metadata": {},
   "outputs": [
    {
     "data": {
      "text/plain": [
       "array([[[5.83224590e-01, 5.92214469e-01, 9.75798384e-01, 7.00000000e+02,\n",
       "         2.90985168e-01, 8.39184394e-01],\n",
       "        [8.43091449e-01, 8.59569656e-01, 1.65446039e-01, 4.42447934e-01,\n",
       "         5.24926726e-01, 6.59659606e-01]],\n",
       "\n",
       "       [[4.80685826e-01, 5.38123884e-01, 6.05772483e-01, 6.17043268e-01,\n",
       "         1.29210070e-01, 4.50848025e-01],\n",
       "        [8.70199139e-01, 9.59262757e-01, 2.98587342e-01, 5.52118455e-01,\n",
       "         5.97572641e-01, 6.02538334e-01]]])"
      ]
     },
     "execution_count": 47,
     "metadata": {},
     "output_type": "execute_result"
    }
   ],
   "source": [
    "data"
   ]
  },
  {
   "cell_type": "code",
   "execution_count": 48,
   "id": "bd08ddf1-47ef-472e-9d40-c530fb56fa72",
   "metadata": {},
   "outputs": [
    {
     "data": {
      "text/plain": [
       "array([[[0.84309145, 0.85956966, 0.16544604, 0.44244793, 0.52492673,\n",
       "         0.65965961]],\n",
       "\n",
       "       [[0.87019914, 0.95926276, 0.29858734, 0.55211846, 0.59757264,\n",
       "         0.60253833]]])"
      ]
     },
     "execution_count": 48,
     "metadata": {},
     "output_type": "execute_result"
    }
   ],
   "source": [
    "np.delete(data, 0, axis=1)"
   ]
  },
  {
   "cell_type": "code",
   "execution_count": 49,
   "id": "aad1cb3f-7e23-4944-b71a-a1cc63f57e7c",
   "metadata": {},
   "outputs": [],
   "source": [
    "np.save(\"new array\", data)"
   ]
  },
  {
   "cell_type": "code",
   "execution_count": 50,
   "id": "2e4f6ddd-feb9-4b8a-a81b-5c0f3111db6c",
   "metadata": {},
   "outputs": [],
   "source": [
    "test = np.load(\"new array.npy\")"
   ]
  },
  {
   "cell_type": "code",
   "execution_count": 51,
   "id": "04ca50d3-4523-49a4-98b2-77e046037311",
   "metadata": {},
   "outputs": [
    {
     "data": {
      "text/plain": [
       "array([[[5.83224590e-01, 5.92214469e-01, 9.75798384e-01, 7.00000000e+02,\n",
       "         2.90985168e-01, 8.39184394e-01],\n",
       "        [8.43091449e-01, 8.59569656e-01, 1.65446039e-01, 4.42447934e-01,\n",
       "         5.24926726e-01, 6.59659606e-01]],\n",
       "\n",
       "       [[4.80685826e-01, 5.38123884e-01, 6.05772483e-01, 6.17043268e-01,\n",
       "         1.29210070e-01, 4.50848025e-01],\n",
       "        [8.70199139e-01, 9.59262757e-01, 2.98587342e-01, 5.52118455e-01,\n",
       "         5.97572641e-01, 6.02538334e-01]]])"
      ]
     },
     "execution_count": 51,
     "metadata": {},
     "output_type": "execute_result"
    }
   ],
   "source": [
    "test"
   ]
  },
  {
   "cell_type": "code",
   "execution_count": null,
   "id": "4dfcbc29-db41-42bf-a8db-9409ffe7f092",
   "metadata": {},
   "outputs": [],
   "source": []
  }
 ],
 "metadata": {
  "kernelspec": {
   "display_name": "Python 3 (ipykernel)",
   "language": "python",
   "name": "python3"
  },
  "language_info": {
   "codemirror_mode": {
    "name": "ipython",
    "version": 3
   },
   "file_extension": ".py",
   "mimetype": "text/x-python",
   "name": "python",
   "nbconvert_exporter": "python",
   "pygments_lexer": "ipython3",
   "version": "3.12.2"
  }
 },
 "nbformat": 4,
 "nbformat_minor": 5
}
